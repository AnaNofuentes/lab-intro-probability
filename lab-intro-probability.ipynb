{
 "cells": [
  {
   "cell_type": "markdown",
   "metadata": {},
   "source": [
    "# Lab | Intro to Probability"
   ]
  },
  {
   "cell_type": "markdown",
   "metadata": {},
   "source": [
    "**Objective**\n",
    "\n",
    "Welcome to this Intro to Probability lab, where we explore decision-making scenarios through the lens of probability and strategic analysis. In the business world, making informed decisions is crucial, especially when faced with uncertainties. This lab focuses on scenarios where probabilistic outcomes play a significant role in shaping strategies and outcomes. Students will engage in exercises that require assessing and choosing optimal paths based on data-driven insights. The goal is to enhance your skills by applying probability concepts to solve real-world problems."
   ]
  },
  {
   "cell_type": "markdown",
   "metadata": {},
   "source": [
    "**Challenge 1**"
   ]
  },
  {
   "cell_type": "markdown",
   "metadata": {},
   "source": [
    "#### Ironhack Airlines \n",
    "\n",
    "Often Airlines sell more tickets than they have seats available, this is called overbooking. Consider the following:\n",
    "- A plane has 450 seats. \n",
    "- Based on historical data we conclude that each individual passenger has a 3% chance of missing it's flight. \n",
    "\n",
    "If the Ironhack Airlines routinely sells 460 tickets, what is the chance that they have a seats for all passenger?"
   ]
  },
  {
   "cell_type": "code",
   "execution_count": 4,
   "metadata": {},
   "outputs": [
    {
     "name": "stdout",
     "output_type": "stream",
     "text": [
      " the probability of having seats suficient is approximately 0.8845 \n",
      "\n"
     ]
    }
   ],
   "source": [
    "from scipy.stats import binom\n",
    "\n",
    "n = 460  # num tickets sold\n",
    "p = 0.97  # probability of a person showing up\n",
    "seats = 450  # num of seats available\n",
    "\n",
    "# Calculamos la probabilidad acumulada hasta 450 pasajeros (CDF de la binomial)\n",
    "probability = binom.cdf(seats, n, p)\n",
    "\n",
    "print(f\" the probability of having seats suficient is approximately {probability:.4f} \\n\")\n"
   ]
  },
  {
   "cell_type": "markdown",
   "metadata": {},
   "source": [
    "**Challenge 2**"
   ]
  },
  {
   "cell_type": "markdown",
   "metadata": {},
   "source": [
    "#### Ironhack Call Center "
   ]
  },
  {
   "cell_type": "markdown",
   "metadata": {},
   "source": [
    "Suppose a customer service representative at a call center is handling customer complaints. Consider the following:\n",
    "- The probability of successfully resolving a customer complaint on the first attempt is 0.3. \n",
    "\n",
    "\n",
    "What is the probability that the representative needs to make at least three attempts before successfully resolving a customer complaint?"
   ]
  },
  {
   "cell_type": "code",
   "execution_count": 7,
   "metadata": {},
   "outputs": [
    {
     "name": "stdout",
     "output_type": "stream",
     "text": [
      "The probability to make at least three attempts before successfully resolving a customer complaint is 0.4900\n"
     ]
    }
   ],
   "source": [
    "from scipy.stats import geom\n",
    "\n",
    "p = 0.30\n",
    "geom_dist = geom(p)\n",
    "prob_at_least_three = 1 - geom_dist.cdf(2)\n",
    "\n",
    "print(f\"The probability to make at least three attempts before successfully resolving a customer complaint is {prob_at_least_three:.4f}\")"
   ]
  },
  {
   "cell_type": "markdown",
   "metadata": {},
   "source": [
    "**Challenge 3**"
   ]
  },
  {
   "cell_type": "markdown",
   "metadata": {},
   "source": [
    "#### Ironhack Website"
   ]
  },
  {
   "cell_type": "markdown",
   "metadata": {},
   "source": [
    "Consider a scenario related to Ironhack website traffic. Where:\n",
    "- our website takes on average 500 visits per hour.\n",
    "- the website's server is designed to handle up to 550 vists per hour.\n",
    "\n",
    "\n",
    "What is the probability of the website server being overwhelmed?"
   ]
  },
  {
   "cell_type": "code",
   "execution_count": 11,
   "metadata": {},
   "outputs": [
    {
     "name": "stdout",
     "output_type": "stream",
     "text": [
      " the probability of the website server being overwhelmed is 0.0129 \n",
      "\n"
     ]
    }
   ],
   "source": [
    "from scipy.stats import poisson\n",
    "\n",
    "visits_avg = 500  # average number of visits per day\n",
    "\n",
    "prob_less_equal_550 = poisson.cdf(550, visits_avg) # P(X <= 550)\n",
    "\n",
    "prob_overwhelmed = 1 - prob_less_equal_550 # P(X > 550)\n",
    "\n",
    "print(f\" the probability of the website server being overwhelmed is {prob_overwhelmed:.4f} \\n\")"
   ]
  },
  {
   "cell_type": "markdown",
   "metadata": {},
   "source": [
    "What is the probability of being overwhelmed at some point during a day? (consider 24hours)"
   ]
  },
  {
   "cell_type": "code",
   "execution_count": 12,
   "metadata": {},
   "outputs": [
    {
     "name": "stdout",
     "output_type": "stream",
     "text": [
      "The probability that the server is overwhelmed at some point during the day is 0.2677\n"
     ]
    }
   ],
   "source": [
    "from scipy.stats import poisson\n",
    "\n",
    "# Average visits per hour\n",
    "lambda_visits = 500\n",
    "\n",
    "# Probability that the server is NOT overwhelmed in one hour\n",
    "prob_not_overwhelmed_one_hour = poisson.cdf(550, lambda_visits)\n",
    "\n",
    "# Probability that the server is not overwhelmed for 24 consecutive hours\n",
    "prob_not_overwhelmed_day = prob_not_overwhelmed_one_hour ** 24\n",
    "\n",
    "# Probability that the server is overwhelmed at least once during the day\n",
    "prob_overwhelmed_day = 1 - prob_not_overwhelmed_day\n",
    "\n",
    "print(f\"The probability that the server is overwhelmed at some point during the day is {prob_overwhelmed_day:.4f}\")\n"
   ]
  },
  {
   "cell_type": "markdown",
   "metadata": {},
   "source": [
    "**Challenge 4**"
   ]
  },
  {
   "cell_type": "markdown",
   "metadata": {},
   "source": [
    "#### Ironhack Helpdesk"
   ]
  },
  {
   "cell_type": "markdown",
   "metadata": {},
   "source": [
    "Consider a scenario related to the time between arrivals of customers at a service desk.\n",
    "\n",
    "On average, a customers arrives every 10minutes.\n",
    "\n",
    "What is the probability that the next customer will arrive within the next 5 minutes?"
   ]
  },
  {
   "cell_type": "code",
   "execution_count": 13,
   "metadata": {},
   "outputs": [
    {
     "name": "stdout",
     "output_type": "stream",
     "text": [
      "The probability that the next customer will arrive within the next 5 minutes is 0.3935\n"
     ]
    }
   ],
   "source": [
    "from scipy.stats import expon\n",
    "\n",
    "# The parameter represents the rate of events occurring per unit of time\n",
    "lambda_value = 0.1 # This corresponds to an average of 10 minutes between arrivals\n",
    "\n",
    "# Create an exponential distribution object\n",
    "lambda_inv = expon(scale=1/lambda_value)\n",
    "\n",
    "# Calculate the probability that the next customer arrives within 5 minutes\n",
    "probability_within_5_minutes = lambda_inv.cdf(5)\n",
    "\n",
    "print(f\"The probability that the next customer will arrive within the next 5 minutes is {probability_within_8_minutes:.4f}\")\n"
   ]
  },
  {
   "cell_type": "markdown",
   "metadata": {},
   "source": [
    "If there is no customer for 15minutes, employees can that a 5minutes break.\n",
    "\n",
    "What is the probability an employee taking a break?"
   ]
  },
  {
   "cell_type": "code",
   "execution_count": 15,
   "metadata": {},
   "outputs": [
    {
     "name": "stdout",
     "output_type": "stream",
     "text": [
      "The probability that an employee can take a break after 15 minutes of no customers is 0.2231\n"
     ]
    }
   ],
   "source": [
    "from scipy.stats import expon\n",
    "\n",
    "# The parameter represents the rate of events occurring per unit of time\n",
    "lambda_value = 0.1  # Average of 10 minutes between arrivals\n",
    "\n",
    "# Create an exponential distribution object\n",
    "exponential_dist = expon(scale=1/lambda_value)\n",
    "\n",
    "# Calculate the probability that no customer arrives in the next 15 minutes\n",
    "# P(X > 15) = 1 - P(X <= 15)\n",
    "probability_no_customers = exponential_dist.sf(15)  # Survival function (1 - CDF)\n",
    "\n",
    "print(f\"The probability that an employee can take a break after 15 minutes of no customers is {probability_no_customers:.4f}\")\n"
   ]
  },
  {
   "cell_type": "markdown",
   "metadata": {},
   "source": [
    "**Challenge 5**"
   ]
  },
  {
   "cell_type": "markdown",
   "metadata": {},
   "source": [
    "The weights of a certain species of birds follow a normal distribution with a mean weight of 150 grams and a standard deviation of 10 grams. \n",
    "\n",
    "- If we randomly select a bird, what is the probability that its weight is between 140 and 160 grams?"
   ]
  },
  {
   "cell_type": "code",
   "execution_count": 17,
   "metadata": {},
   "outputs": [
    {
     "name": "stdout",
     "output_type": "stream",
     "text": [
      "the probability that its weight is between 140 and 160 grams is 0.6826894921370859\n"
     ]
    }
   ],
   "source": [
    "from scipy.stats import norm\n",
    "\n",
    "mean = 150\n",
    "std = 10\n",
    "norm_dist = norm(loc = mean, scale = std)\n",
    "print(f\"the probability that its weight is between 140 and 160 grams is {norm_dist.cdf(160) - norm_dist.cdf(140)}\")"
   ]
  },
  {
   "cell_type": "markdown",
   "metadata": {},
   "source": [
    "**Challenge 6**"
   ]
  },
  {
   "cell_type": "markdown",
   "metadata": {},
   "source": [
    "If the lifetime (in hours) of a certain electronic component follows an exponential distribution with a mean lifetime of 50 hours, what is the probability that the component fails within the first 30 hours?"
   ]
  },
  {
   "cell_type": "code",
   "execution_count": 19,
   "metadata": {},
   "outputs": [
    {
     "name": "stdout",
     "output_type": "stream",
     "text": [
      "The probability that the component fails within the first 30 hours is 0.4512\n"
     ]
    }
   ],
   "source": [
    "from scipy.stats import expon\n",
    "\n",
    "\n",
    "# Given values\n",
    "mean_lifetime = 50  # in hours\n",
    "failure_time = 30    # in hours\n",
    "\n",
    "# Calculate the rate parameter (lambda)\n",
    "lambda_value = 1 / mean_lifetime\n",
    "\n",
    "# Create an exponential distribution object\n",
    "exponential_dist = expon(scale=1/lambda_value)\n",
    "\n",
    "# Calculate the probability that the component fails within the first 30 hours\n",
    "probability_failure_within_30_hours = exponential_dist.cdf(failure_time)\n",
    "\n",
    "print(f\"The probability that the component fails within the first 30 hours is {probability_failure_within_30_hours:.4f}\")\n"
   ]
  }
 ],
 "metadata": {
  "kernelspec": {
   "display_name": "Python 3",
   "language": "python",
   "name": "python3"
  },
  "language_info": {
   "codemirror_mode": {
    "name": "ipython",
    "version": 3
   },
   "file_extension": ".py",
   "mimetype": "text/x-python",
   "name": "python",
   "nbconvert_exporter": "python",
   "pygments_lexer": "ipython3",
   "version": "3.11.9"
  }
 },
 "nbformat": 4,
 "nbformat_minor": 2
}
